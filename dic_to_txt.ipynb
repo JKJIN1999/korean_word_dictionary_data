{
 "cells": [
  {
   "cell_type": "code",
   "execution_count": 79,
   "id": "65bdb9ae",
   "metadata": {},
   "outputs": [],
   "source": [
    "import xlrd\n",
    "import os\n",
    "import sys\n"
   ]
  },
  {
   "cell_type": "code",
   "execution_count": 80,
   "id": "72cef946",
   "metadata": {},
   "outputs": [],
   "source": [
    "sys.path.append(\"./\")\n",
    "cwd = os.getcwd()\n",
    "xls_path = cwd + \"\\dic_xls\"\n",
    "xls_files = [xls for xls in os.listdir(xls_path) if xls.endswith('.xls')]\n"
   ]
  },
  {
   "cell_type": "code",
   "execution_count": 81,
   "id": "c8c89e9a",
   "metadata": {},
   "outputs": [],
   "source": [
    "def line_checker(line):\n",
    "    if line == \"\\n\" or \"→\" in line:\n",
    "        return \"\"\n",
    "    if \"「\" in line:\n",
    "        result = line.split(\"「\")\n",
    "        for x in range(1, len(result)):\n",
    "            result[x] = result[x][2:]\n",
    "        line = \"\".join(result)\n",
    "    if \"[\" in line:\n",
    "        result = line.split(\"[\")\n",
    "        for x in range(1,len(result)):\n",
    "            result[x] = result[x][2:]\n",
    "        line = \"\".join(result)\n",
    "    if line == \".\" or line ==\"\\n\":\n",
    "        return \"\"\n",
    "    return line"
   ]
  },
  {
   "cell_type": "code",
   "execution_count": 82,
   "id": "fe58c6aa",
   "metadata": {},
   "outputs": [],
   "source": [
    "with open(\"dic_text.txt\", \"w\", encoding=\"UTF-8\") as txt:\n",
    "    for xls in xls_files:\n",
    "        dic = xlrd.open_workbook(xls_path + \"\\\\\"+xls)\n",
    "        sheet = dic.sheet_by_index(0)\n",
    "        word_meanings = sheet.col_values(16, start_rowx=1, end_rowx=None)\n",
    "        word_examples = sheet.col_values(17, start_rowx=1, end_rowx=None)\n",
    "        for type in [word_meanings, word_examples]:\n",
    "            for sentence in type:\n",
    "                line = line_checker(sentence)\n",
    "                lines = line[:-2].split(\". \")\n",
    "                for y in lines:\n",
    "                    if y != \"\" and len(y.split()) > 1:\n",
    "                        y = y + \".\\n\"\n",
    "                        txt.write(y)\n",
    "\n",
    "        \n",
    "        "
   ]
  },
  {
   "cell_type": "code",
   "execution_count": null,
   "id": "e1ae9d61",
   "metadata": {},
   "outputs": [],
   "source": []
  },
  {
   "cell_type": "code",
   "execution_count": null,
   "id": "9c38533f",
   "metadata": {},
   "outputs": [],
   "source": []
  }
 ],
 "metadata": {
  "kernelspec": {
   "display_name": "Python 3 (ipykernel)",
   "language": "python",
   "name": "python3"
  },
  "language_info": {
   "codemirror_mode": {
    "name": "ipython",
    "version": 3
   },
   "file_extension": ".py",
   "mimetype": "text/x-python",
   "name": "python",
   "nbconvert_exporter": "python",
   "pygments_lexer": "ipython3",
   "version": "3.9.13"
  }
 },
 "nbformat": 4,
 "nbformat_minor": 5
}
