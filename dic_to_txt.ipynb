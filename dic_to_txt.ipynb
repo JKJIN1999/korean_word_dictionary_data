{
 "cells": [
  {
   "cell_type": "code",
   "execution_count": 117,
   "id": "6b5fc053",
   "metadata": {},
   "outputs": [],
   "source": [
    "import xlrd\n",
    "import os\n",
    "import sys\n",
    "import re\n"
   ]
  },
  {
   "cell_type": "code",
   "execution_count": 118,
   "id": "b6e96195",
   "metadata": {},
   "outputs": [],
   "source": [
    "sys.path.append(\"./\")\n",
    "cwd = os.getcwd()\n",
    "xls_path = cwd + \"\\dic_xls\"\n",
    "xls_files = [xls for xls in os.listdir(xls_path) if xls.endswith('.xls')]\n"
   ]
  },
  {
   "cell_type": "code",
   "execution_count": 119,
   "id": "800496db",
   "metadata": {},
   "outputs": [],
   "source": [
    "def line_checker(line):\n",
    "    if line == \"\\n\" or \"→\" in line:\n",
    "        return \"\"\n",
    "    \n",
    "    if \"「\" in line:\n",
    "        result = []\n",
    "        line = line.split(\"「\")\n",
    "        for x in line:\n",
    "            if \"」\" in x:\n",
    "                result.append(x.split(\"」\")[-1])\n",
    "            else:\n",
    "                if x != \"\":\n",
    "                    result.append(x)\n",
    "        line = \"\".join(result)\n",
    "        \n",
    "    if \"[\" in line:\n",
    "        result = []\n",
    "        line = line.split(\"[\")\n",
    "        for x in line:\n",
    "            if \"]\" in x:\n",
    "                result.append(x.split(\"]\")[-1])\n",
    "            else:\n",
    "                if x!= \"\":\n",
    "                    result.append(x)\n",
    "        line = \"\".join(result)\n",
    "    \n",
    "    if \"(\" in line:\n",
    "        result = []\n",
    "        line = line.split(\"(\")\n",
    "        for x in line:\n",
    "            if \")\" in x:\n",
    "                result.append(x.split(\")\")[-1])\n",
    "            else:\n",
    "                if x != \"\":\n",
    "                    result.append(x)\n",
    "        line = \"\".join(result)\n",
    "    \n",
    "    if line == \".\" or line ==\"\\n\":\n",
    "        return \"\"\n",
    "    return line"
   ]
  },
  {
   "cell_type": "code",
   "execution_count": 120,
   "id": "24802817",
   "metadata": {},
   "outputs": [],
   "source": [
    "with open(\"dic_text.txt\", \"w\", encoding=\"UTF-8\") as txt:\n",
    "    for xls in xls_files:\n",
    "        dic = xlrd.open_workbook(xls_path + \"\\\\\"+xls)\n",
    "        sheet = dic.sheet_by_index(0)\n",
    "        word_meanings = sheet.col_values(16, start_rowx=1, end_rowx=None)\n",
    "        word_examples = sheet.col_values(17, start_rowx=1, end_rowx=None)\n",
    "        for type in [word_meanings, word_examples]:\n",
    "            for sentence in type:\n",
    "                line = line_checker(sentence)\n",
    "                lines = line[:-2].split(\". \")\n",
    "                for y in lines:\n",
    "                    if y != \"\" and len(y.split()) > 1 and not re.search('[a-zA-Z]', y) and not re.search(\"[\\u4e00-\\u9FFF]\", y):\n",
    "                        y = y + \".\\n\"\n",
    "                        txt.write(y)\n",
    "\n",
    "        \n",
    "        "
   ]
  },
  {
   "cell_type": "code",
   "execution_count": 121,
   "id": "e872929f",
   "metadata": {},
   "outputs": [
    {
     "name": "stdout",
     "output_type": "stream",
     "text": [
      "['', '1」큰 목재(木材)나 석재(石材).', '2」고라파덕']\n",
      "['1', '큰 목재(木材)나 석재(石材).']\n",
      "['2', '고라파덕']\n",
      "['큰 목재(木材)나 석재(石材).', '고라파덕']\n"
     ]
    }
   ],
   "source": [
    "text = \"「1」큰 목재(木材)나 석재(石材).「2」고라파덕\"\n",
    "if \"「\" in text:\n",
    "    text = text.split(\"「\")\n",
    "    print(text)\n",
    "    line = []\n",
    "    for x in text:\n",
    "        if \"」\" in x:\n",
    "            print(x.split(\"」\"))\n",
    "            line.append(x.split(\"」\")[-1])\n",
    "        else:\n",
    "            if x != \"\":\n",
    "                line.append(x)\n",
    "print(line)\n"
   ]
  },
  {
   "cell_type": "code",
   "execution_count": null,
   "id": "af9a51f1",
   "metadata": {},
   "outputs": [],
   "source": []
  }
 ],
 "metadata": {
  "kernelspec": {
   "display_name": "Python 3 (ipykernel)",
   "language": "python",
   "name": "python3"
  },
  "language_info": {
   "codemirror_mode": {
    "name": "ipython",
    "version": 3
   },
   "file_extension": ".py",
   "mimetype": "text/x-python",
   "name": "python",
   "nbconvert_exporter": "python",
   "pygments_lexer": "ipython3",
   "version": "3.9.13"
  }
 },
 "nbformat": 4,
 "nbformat_minor": 5
}
